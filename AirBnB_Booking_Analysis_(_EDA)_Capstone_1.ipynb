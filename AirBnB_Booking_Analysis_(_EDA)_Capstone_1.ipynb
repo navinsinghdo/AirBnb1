{
  "nbformat": 4,
  "nbformat_minor": 0,
  "metadata": {
    "colab": {
      "private_outputs": true,
      "provenance": [],
      "collapsed_sections": [
        "vncDsAP0Gaoa",
        "FJNUwmbgGyua",
        "w6K7xa23Elo4",
        "yQaldy8SH6Dl",
        "PH-0ReGfmX4f",
        "mDgbUHAGgjLW",
        "O_i_v8NEhb9l",
        "HhfV-JJviCcP",
        "Y3lxredqlCYt",
        "3RnN4peoiCZX",
        "x71ZqKXriCWQ",
        "7hBIi_osiCS2",
        "JlHwYmJAmNHm",
        "35m5QtbWiB9F",
        "PoPl-ycgm1ru",
        "H0kj-8xxnORC",
        "nA9Y7ga8ng1Z",
        "PBTbrJXOngz2",
        "u3PMJOP6ngxN",
        "dauF4eBmngu3",
        "bKJF3rekwFvQ",
        "MSa1f5Uengrz",
        "GF8Ens_Soomf",
        "0wOQAZs5pc--",
        "K5QZ13OEpz2H",
        "lQ7QKXXCp7Bj",
        "448CDAPjqfQr",
        "KSlN3yHqYklG",
        "t6dVpIINYklI",
        "ijmpgYnKYklI",
        "-JiQyfWJYklI",
        "EM7whBJCYoAo",
        "fge-S5ZAYoAp",
        "85gYPyotYoAp",
        "RoGjAbkUYoAp",
        "4Of9eVA-YrdM",
        "iky9q4vBYrdO",
        "F6T5p64dYrdO",
        "y-Ehk30pYrdP",
        "bamQiAODYuh1",
        "QHF8YVU7Yuh3",
        "GwzvFGzlYuh3",
        "qYpmQ266Yuh3",
        "OH-pJp9IphqM",
        "bbFf2-_FphqN",
        "_ouA3fa0phqN",
        "Seke61FWphqN",
        "PIIx-8_IphqN",
        "t27r6nlMphqO",
        "r2jJGEOYphqO",
        "b0JNsNcRphqO",
        "BZR9WyysphqO",
        "jj7wYXLtphqO",
        "eZrbJ2SmphqO",
        "rFu4xreNphqO",
        "YJ55k-q6phqO",
        "gCFgpxoyphqP",
        "OVtJsKN_phqQ",
        "lssrdh5qphqQ",
        "U2RJ9gkRphqQ",
        "1M8mcRywphqQ",
        "tgIPom80phqQ",
        "JMzcOPDDphqR",
        "x-EpHcCOp1ci",
        "X_VqEhTip1ck",
        "8zGJKyg5p1ck",
        "PVzmfK_Ep1ck",
        "n3dbpmDWp1ck",
        "ylSl6qgtp1ck",
        "ZWILFDl5p1ck",
        "M7G43BXep1ck",
        "Ag9LCva-p1cl",
        "E6MkPsBcp1cl",
        "2cELzS2fp1cl",
        "3MPXvC8up1cl",
        "NC_X3p0fY2L0",
        "UV0SzAkaZNRQ",
        "YPEH6qLeZNRQ",
        "q29F0dvdveiT",
        "EXh0U9oCveiU",
        "22aHeOlLveiV",
        "JcMwzZxoAimU",
        "8G2x9gOozGDZ",
        "gCX9965dhzqZ",
        "gIfDvo9L0UH2"
      ],
      "include_colab_link": true
    },
    "kernelspec": {
      "name": "python3",
      "display_name": "Python 3"
    },
    "language_info": {
      "name": "python"
    }
  },
  "cells": [
    {
      "cell_type": "markdown",
      "metadata": {
        "id": "view-in-github",
        "colab_type": "text"
      },
      "source": [
        "<a href=\"https://colab.research.google.com/github/navinsinghdo/AirBnb1/blob/main/AirBnB_Booking_Analysis_(_EDA)_Capstone_1.ipynb\" target=\"_parent\"><img src=\"https://colab.research.google.com/assets/colab-badge.svg\" alt=\"Open In Colab\"/></a>"
      ]
    },
    {
      "cell_type": "markdown",
      "source": [
        "AirBnB Booking Analysis\n",
        "\n"
      ],
      "metadata": {
        "id": "vncDsAP0Gaoa"
      }
    },
    {
      "cell_type": "markdown",
      "source": [
        "##### **Project Type**    - EDA\n",
        "##### **Contribution**    - Individual\n"
      ],
      "metadata": {
        "id": "beRrZCGUAJYm"
      }
    },
    {
      "cell_type": "markdown",
      "source": [
        "# **GitHub Link -**"
      ],
      "metadata": {
        "id": "w6K7xa23Elo4"
      }
    },
    {
      "cell_type": "markdown",
      "source": [
        "https://github.com/navinsinghdo/capstone.git"
      ],
      "metadata": {
        "id": "h1o69JH3Eqqn"
      }
    },
    {
      "cell_type": "markdown",
      "source": [
        "# **Problem Statement**\n"
      ],
      "metadata": {
        "id": "yQaldy8SH6Dl"
      }
    },
    {
      "cell_type": "markdown",
      "source": [
        "Since 2008, guests and hosts have used Airbnb to expand on traveling possibilities and present a more unique, personalized way of experiencing the world. Today, Airbnb became one of a kind service that is used and recognized by the whole world. Data analysis on millions of listings provided through Airbnb is a crucial factor for the company. These millions of listings generate a lot of data - data that can be analyzed and used for security, business decisions, understanding of customers' and providers' (hosts) behavior and performance on the platform, guiding marketing initiatives, implementation of innovative additional services and much more.\n",
        "This dataset has around 49,000 observations in it with 14 columns and it is a mix between categorical and numeric values.\n",
        "\n",
        "**Explore and analyze the data to discover key understandings (not limited to these) such as :**\n",
        "\n",
        "What can we learn about different hosts and areas?\n",
        "\n",
        "What can we learn from predictions? (ex: locations, prices, reviews, etc)\n",
        "\n",
        "Which hosts are the busiest and why?\n",
        "\n",
        "Is there any noticeable difference of traffic among different areas and what could be the reason for it?"
      ],
      "metadata": {
        "id": "DpeJGUA3kjGy"
      }
    },
    {
      "cell_type": "markdown",
      "source": [
        "#### **Define Your Business Objective?**"
      ],
      "metadata": {
        "id": "PH-0ReGfmX4f"
      }
    },
    {
      "cell_type": "markdown",
      "source": [
        "To understand the customer demographics, and to understand how we can make business model more profitable."
      ],
      "metadata": {
        "id": "PhDvGCAqmjP1"
      }
    },
    {
      "cell_type": "markdown",
      "source": [
        "# ***Let's Begin !***"
      ],
      "metadata": {
        "id": "O_i_v8NEhb9l"
      }
    },
    {
      "cell_type": "markdown",
      "source": [
        "## ***1. Know Your Data***"
      ],
      "metadata": {
        "id": "HhfV-JJviCcP"
      }
    },
    {
      "cell_type": "markdown",
      "source": [
        "### Import Libraries"
      ],
      "metadata": {
        "id": "Y3lxredqlCYt"
      }
    },
    {
      "cell_type": "code",
      "source": [
        "# Import Libraries\n",
        "import pandas as pd\n",
        "import numpy as np\n",
        "import matplotlib.pyplot as plt\n",
        "import seaborn as sns\n",
        "from prettytable import PrettyTable\n",
        "from tabulate import tabulate"
      ],
      "metadata": {
        "id": "M8Vqi-pPk-HR"
      },
      "execution_count": null,
      "outputs": []
    },
    {
      "cell_type": "markdown",
      "source": [
        "### Dataset Loading"
      ],
      "metadata": {
        "id": "3RnN4peoiCZX"
      }
    },
    {
      "cell_type": "code",
      "source": [
        "# Load Dataset\n",
        "from google.colab import drive\n",
        "drive.mount('/content/drive/')"
      ],
      "metadata": {
        "id": "4CkvbW_SlZ_R"
      },
      "execution_count": null,
      "outputs": []
    },
    {
      "cell_type": "code",
      "source": [
        "airbnb_df = pd.read_csv('/content/drive/MyDrive/AlmaBetter/Airbnb_NYC_2019.csv')"
      ],
      "metadata": {
        "id": "K-lcJUFgWOr1"
      },
      "execution_count": null,
      "outputs": []
    },
    {
      "cell_type": "markdown",
      "source": [
        "### Dataset First View"
      ],
      "metadata": {
        "id": "x71ZqKXriCWQ"
      }
    },
    {
      "cell_type": "code",
      "source": [
        "# Dataset First Look\n",
        "airbnb_df.head()"
      ],
      "metadata": {
        "id": "LWNFOSvLl09H"
      },
      "execution_count": null,
      "outputs": []
    },
    {
      "cell_type": "code",
      "source": [
        "airbnb_df.tail()"
      ],
      "metadata": {
        "id": "fS4SmsgSpyfR"
      },
      "execution_count": null,
      "outputs": []
    },
    {
      "cell_type": "markdown",
      "source": [
        "### Dataset Rows & Columns count"
      ],
      "metadata": {
        "id": "7hBIi_osiCS2"
      }
    },
    {
      "cell_type": "code",
      "source": [
        "# Dataset Rows & Columns count\n",
        "print(\"Number of rows:\", airbnb_df.shape[0])\n",
        "print(\"Number of columns:\", airbnb_df.shape[1])"
      ],
      "metadata": {
        "id": "Kllu7SJgmLij"
      },
      "execution_count": null,
      "outputs": []
    },
    {
      "cell_type": "markdown",
      "source": [
        "### Dataset Information"
      ],
      "metadata": {
        "id": "JlHwYmJAmNHm"
      }
    },
    {
      "cell_type": "code",
      "source": [
        "# Dataset Info\n",
        "airbnb_df.info()"
      ],
      "metadata": {
        "id": "e9hRXRi6meOf"
      },
      "execution_count": null,
      "outputs": []
    },
    {
      "cell_type": "code",
      "source": [
        "# check the data types of the variables\n",
        "airbnb_df.dtypes"
      ],
      "metadata": {
        "id": "coE4PpwfpMYI"
      },
      "execution_count": null,
      "outputs": []
    },
    {
      "cell_type": "markdown",
      "source": [
        "When it comes to data, there are many different sorts of quality issues, which is why data cleaning is one of the most time-consuming aspects of data analysis.\n",
        "\n",
        "Formatting issues (e.g., rows and columns merged), missing data, duplicated rows, spelling discrepancies, and so on could all be present. These difficulties could make data analysis difficult, resulting in inaccuracies or inappropriate results. As a result, these issues must be addressed before data can be analyzed. Data cleaning is frequently done in an unplanned, difficult-to-define manner."
      ],
      "metadata": {
        "id": "L_IGN1IOpW19"
      }
    },
    {
      "cell_type": "markdown",
      "source": [
        "#### Duplicate Values"
      ],
      "metadata": {
        "id": "35m5QtbWiB9F"
      }
    },
    {
      "cell_type": "markdown",
      "source": [
        "Duplicate values are those observations which are repeated more than once. Duplicate values doesn't add any value to the analysis rather makes it biased towards that value and hence it should be removed."
      ],
      "metadata": {
        "id": "GDV9urWXo9DB"
      }
    },
    {
      "cell_type": "code",
      "source": [
        "# check for duplicates present in the dataset\n",
        "airbnb_df.duplicated().sum()"
      ],
      "metadata": {
        "id": "1sLdpKYkmox0"
      },
      "execution_count": null,
      "outputs": []
    },
    {
      "cell_type": "markdown",
      "source": [
        "#### Missing Values/Null Values"
      ],
      "metadata": {
        "id": "PoPl-ycgm1ru"
      }
    },
    {
      "cell_type": "markdown",
      "source": [
        "Missing values are those observations for which the value is not given. These values needs to be treated for our analysis to give correct results. Missing values are usually represented in the form of Nan or null or None in the dataset. df.info() the function can be used to give information about the dataset.\n",
        "Missing values can be dealt by:\n",
        "1. Deleting the columns with missing data\n",
        "2. Deleting the rows with missing data\n",
        "3. Imputing the missing data with an appropriate value\n",
        "4. Imputing the missing data with an additonal column etc"
      ],
      "metadata": {
        "id": "f03pga2Moer5"
      }
    },
    {
      "cell_type": "code",
      "source": [
        "# check for missing values present in the dataset\n",
        "airbnb_df.isna().any()"
      ],
      "metadata": {
        "id": "51_sSnKFokDF"
      },
      "execution_count": null,
      "outputs": []
    },
    {
      "cell_type": "code",
      "source": [
        "# Visualization of missing values\n",
        "airbnb_df.isna().sum()"
      ],
      "metadata": {
        "id": "5Q5RFU8loo_R"
      },
      "execution_count": null,
      "outputs": []
    },
    {
      "cell_type": "markdown",
      "source": [
        "### What did you know about your dataset?"
      ],
      "metadata": {
        "id": "H0kj-8xxnORC"
      }
    },
    {
      "cell_type": "markdown",
      "source": [
        "We have 2 columns in which there are missing values present.\n",
        "\n",
        "The columns: **id** and **name** are irrelevant for our analysis and hence we can drop these columns"
      ],
      "metadata": {
        "id": "gfoNAAC-nUe_"
      }
    },
    {
      "cell_type": "markdown",
      "source": [
        "## ***2. Understanding Your Variables***"
      ],
      "metadata": {
        "id": "nA9Y7ga8ng1Z"
      }
    },
    {
      "cell_type": "code",
      "source": [
        "# Dataset Columns\n",
        "airbnb_df.columns"
      ],
      "metadata": {
        "id": "j7xfkqrt5Ag5"
      },
      "execution_count": null,
      "outputs": []
    },
    {
      "cell_type": "code",
      "source": [
        "# Dataset Describe\n",
        "airbnb_df.describe()"
      ],
      "metadata": {
        "id": "DnOaZdaE5Q5t"
      },
      "execution_count": null,
      "outputs": []
    },
    {
      "cell_type": "markdown",
      "source": [
        "### Variables Description"
      ],
      "metadata": {
        "id": "PBTbrJXOngz2"
      }
    },
    {
      "cell_type": "markdown",
      "source": [
        "**id**: It is an unique id given to the property listed in Airbnb NYC which is a numerical variable.\n",
        "\n",
        "**name**: It represents the name of the airbnb listed property which is a categorical feature.\n",
        "\n",
        "**host_id**: This is an unique id given to the host of the property which is a numerical variable.\n",
        "\n",
        "**host_name**: The name of the host of the property listed which is a categorical variable.\n",
        "\n",
        "**neighbourhood_group**: This represents a big neighbourhood inside which there are many mini neighbourhoods which is a categorical variable. There are 5 neighbourhood groups in the data:\n",
        "\n",
        "Manhattan\n",
        "\n",
        "Brooklyn\n",
        "\n",
        "Staten Island\n",
        "\n",
        "Queens\n",
        "\n",
        "Bronx\n",
        "\n",
        "**neighbourhood**: This represents all the mini neighbourhoods present in NYC which is another categorical variable.\n",
        "\n",
        "**latitude**: latitude coordinates\n",
        "\n",
        "**longitude**: longitude coordinate\n",
        "\n",
        "**room_type**: This represents the type of room in the listed property which is a categorical variable. There are three room types available in the data:\n",
        "\n",
        "**Entire Home/Apt, Private Rooms, Shared Rooms price**: Represents the price per day of stay in the respective listed property which is a numerical variable.\n",
        "\n",
        "**minimum_nights**: This represents the minimum number of nights a person has to pay for or stay in the property which is a numerical variable.\n",
        "\n",
        "**number_of_reviews**: The number of reviews given to the property and the host which is a numerical variable.\n",
        "\n",
        "**calculated_host_listings_count**: How many listings a particular host has in NYC which is another numerical variable.\n",
        "\n",
        "**availability_365**: Availability of the property out of 365 days which is also a numerical variable\n",
        "\n",
        "\n",
        "\n",
        "\n",
        "\n",
        "\n",
        "\n",
        "\n",
        "\n",
        "\n",
        "\n",
        "\n"
      ],
      "metadata": {
        "id": "aJV4KIxSnxay"
      }
    },
    {
      "cell_type": "markdown",
      "source": [
        "### Check Unique Values for each variable."
      ],
      "metadata": {
        "id": "u3PMJOP6ngxN"
      }
    },
    {
      "cell_type": "code",
      "source": [
        "# Check Unique Values for each variable.\n",
        "for i in airbnb_df.columns.tolist():\n",
        "  print(\"No. of unique values in \",i,\"is\",airbnb_df[i].nunique(),\".\")"
      ],
      "metadata": {
        "id": "zms12Yq5n-jE"
      },
      "execution_count": null,
      "outputs": []
    },
    {
      "cell_type": "markdown",
      "source": [
        "## 3. ***Data Wrangling***"
      ],
      "metadata": {
        "id": "dauF4eBmngu3"
      }
    },
    {
      "cell_type": "markdown",
      "source": [
        "### Data Wrangling Code"
      ],
      "metadata": {
        "id": "bKJF3rekwFvQ"
      }
    },
    {
      "cell_type": "markdown",
      "source": [
        "**Missing value treatment**\n"
      ],
      "metadata": {
        "id": "F0DqnVPmn4LS"
      }
    },
    {
      "cell_type": "code",
      "source": [
        "# Write your code to make your dataset analysis ready.\n",
        "\n",
        "# drop the unnecessary columns from the dataframe\n",
        "airbnb_df.drop(['id', 'name'], axis=1, inplace=True)\n",
        "airbnb_df.head()"
      ],
      "metadata": {
        "id": "wk-9a2fpoLcV"
      },
      "execution_count": null,
      "outputs": []
    },
    {
      "cell_type": "code",
      "source": [
        "# replace all NaN values in host_name by 'no name'\n",
        "airbnb_df.host_name.fillna('No Name', inplace=True)\n",
        "airbnb_df.head()"
      ],
      "metadata": {
        "id": "5Kb4IO_kaaxv"
      },
      "execution_count": null,
      "outputs": []
    },
    {
      "cell_type": "code",
      "source": [
        "# check for any missing value\n",
        "airbnb_df.isnull().any()"
      ],
      "metadata": {
        "id": "Umpwm7a5aeYt"
      },
      "execution_count": null,
      "outputs": []
    },
    {
      "cell_type": "code",
      "source": [
        "airbnb_df.info()"
      ],
      "metadata": {
        "id": "1Ipo3n11aizu"
      },
      "execution_count": null,
      "outputs": []
    },
    {
      "cell_type": "markdown",
      "source": [
        "### What all manipulations have you done and insights you found?"
      ],
      "metadata": {
        "id": "MSa1f5Uengrz"
      }
    },
    {
      "cell_type": "markdown",
      "source": [
        "Duplicates and missing values have been removed from the dataset. The dataset now is clean and ready for data exploration/analysis."
      ],
      "metadata": {
        "id": "wNdIXTNua2GV"
      }
    },
    {
      "cell_type": "code",
      "source": [
        "# description of the clean dataset\n",
        "airbnb_df.describe()"
      ],
      "metadata": {
        "id": "vfP-bigda_Za"
      },
      "execution_count": null,
      "outputs": []
    },
    {
      "cell_type": "markdown",
      "source": [
        "We can see that there are few properties which have listed price as 0. This might be due to some error in data collection as we expect nobody is giving Airbnb stays for free. We will exclude the price 0 for our analysis."
      ],
      "metadata": {
        "id": "tZALGPrRbFhS"
      }
    },
    {
      "cell_type": "code",
      "source": [
        "# exclude the records which have price as zero\n",
        "airbnb_df = airbnb_df.loc[airbnb_df['price'] > 0]"
      ],
      "metadata": {
        "id": "_PVqVnBRbJlx"
      },
      "execution_count": null,
      "outputs": []
    },
    {
      "cell_type": "code",
      "source": [
        "airbnb_df.shape"
      ],
      "metadata": {
        "id": "zigQYCPMbNmm"
      },
      "execution_count": null,
      "outputs": []
    },
    {
      "cell_type": "code",
      "source": [
        "# check the description\n",
        "airbnb_df.describe()"
      ],
      "metadata": {
        "id": "8Be-JQ9NbY18"
      },
      "execution_count": null,
      "outputs": []
    },
    {
      "cell_type": "markdown",
      "source": [
        "The price seems alright now. Though the maximum price is at 10000 $, we will consider it as a natural observation and not an outlier because there are few high values for minimum nights spent and as a reason the price might be higher for those stays."
      ],
      "metadata": {
        "id": "i3PxulL-bdZy"
      }
    },
    {
      "cell_type": "markdown",
      "source": [
        "## ***4. Data Vizualization, Storytelling & Experimenting with charts : Understand the relationships between variables***"
      ],
      "metadata": {
        "id": "GF8Ens_Soomf"
      }
    },
    {
      "cell_type": "markdown",
      "source": [
        "The dataset is now ready to be explored.\n",
        "We will be doing some univariate, bivariate and multivariate analysis to find out interesting insights.\n",
        "\n",
        "We will uncover few insights from the dataset like:\n",
        "\n",
        "Which hosts has got the most listings in NYC?\n",
        "\n",
        "Which hosts are the busiest?\n",
        "\n",
        "Which neighbourhood group has the most listings in NYC?\n",
        "\n",
        "Which neighbourhood group and neighbourhood are the most expensive and the most affordable?\n",
        "\n",
        "Different room types available in different neighbourhood groups.\n",
        "\n",
        "Which neighbourhood group or neighbourhood is more available out of 365 days?\n",
        "\n",
        "Cost of each room type present in NYC.\n",
        "and many more."
      ],
      "metadata": {
        "id": "uJ5lx3Z5bwJV"
      }
    },
    {
      "cell_type": "markdown",
      "source": [
        "#### Chart - 1\n",
        "\n",
        "**What is the range of prices of the Airbnb listings in NYC?**"
      ],
      "metadata": {
        "id": "0wOQAZs5pc--"
      }
    },
    {
      "cell_type": "code",
      "source": [
        "# check the distribution of price\n",
        "plt.figure(figsize=(20,12))\n",
        "sns.displot(airbnb_df['price'],bins=100)\n",
        "plt.show()"
      ],
      "metadata": {
        "id": "Mc9JSUEzcDIf"
      },
      "execution_count": null,
      "outputs": []
    },
    {
      "cell_type": "markdown",
      "source": [
        "##### 1. Why did you pick the specific chart?"
      ],
      "metadata": {
        "id": "K5QZ13OEpz2H"
      }
    },
    {
      "cell_type": "markdown",
      "source": [
        "We picked this chart to understand the price range distribution across NYC"
      ],
      "metadata": {
        "id": "e4DMJY9ecPPT"
      }
    },
    {
      "cell_type": "markdown",
      "source": [
        "##### 2. What is/are the insight(s) found from the chart?"
      ],
      "metadata": {
        "id": "lQ7QKXXCp7Bj"
      }
    },
    {
      "cell_type": "markdown",
      "source": [
        "The price column is heavily skewed with most of the price ranging between 10$ to 200$.\n",
        "\n",
        "There are a very few observations where the minimum nights is very high and thus for those very few observations the price could go high upto 10000$. Hence, they aren't considered as outliers here."
      ],
      "metadata": {
        "id": "_YIlu9QrcWYs"
      }
    },
    {
      "cell_type": "markdown",
      "source": [
        "##### 3. Will the gained insights help creating a positive business impact?\n",
        "Are there any insights that lead to negative growth? Justify with specific reason."
      ],
      "metadata": {
        "id": "448CDAPjqfQr"
      }
    },
    {
      "cell_type": "markdown",
      "source": [
        "Yes, the gained insights gives an indication regarding the price distribution."
      ],
      "metadata": {
        "id": "MtzSHVl-cgeV"
      }
    },
    {
      "cell_type": "markdown",
      "source": [
        "#### Chart - 2\n",
        "\n",
        "**How many unique Airbnb hosts are there in NYC?**"
      ],
      "metadata": {
        "id": "KSlN3yHqYklG"
      }
    },
    {
      "cell_type": "code",
      "source": [
        "# find unique hosts\n",
        "airbnb_df[['host_id']].nunique()"
      ],
      "metadata": {
        "id": "fE_oTq3Ocy88"
      },
      "execution_count": null,
      "outputs": []
    },
    {
      "cell_type": "markdown",
      "source": [
        "There are 37455 unique Airbnb hosts in New York City.\n",
        "\n",
        "It is clear with the count of hosts and properties listed that there are hosts who have multiple properties listed in Airbnb NYC."
      ],
      "metadata": {
        "id": "_pI2QBkFc7Kt"
      }
    },
    {
      "cell_type": "markdown",
      "source": [
        "Who are the hosts with the most multiple property listings in Airbnb NYC?"
      ],
      "metadata": {
        "id": "gnHajkdfdGmJ"
      }
    },
    {
      "cell_type": "code",
      "source": [
        "# top 20 hosts on the basis of count of listings\n",
        "top_hosts_listings = airbnb_df.groupby(['host_id','host_name'])['host_id'].count().sort_values(ascending=False)[:20]\n",
        "print('The top 20 hosts with the most property listings in NYC are:\\n')\n",
        "top_hosts_listings_df = top_hosts_listings.reset_index(name='Listing Count')\n",
        "table = tabulate(top_hosts_listings_df, headers=['Host ID', 'Host Name', 'Listing Count'], tablefmt='pretty')\n",
        "print(table)\n",
        "\n",
        "# plot the top 20 hosts on the basis of count of listings\n",
        "top_hosts_listings.plot.barh().invert_yaxis()\n",
        "plt.xlabel('Number of properties listed')\n",
        "plt.ylabel('Host Name and Host ID')\n",
        "plt.title('Top 20 Hosts having the highest number of properties listed')\n",
        "plt.show()"
      ],
      "metadata": {
        "id": "oHk2fzHXmdrR"
      },
      "execution_count": null,
      "outputs": []
    },
    {
      "cell_type": "markdown",
      "source": [
        "##### 1. Why did you pick the specific chart?"
      ],
      "metadata": {
        "id": "t6dVpIINYklI"
      }
    },
    {
      "cell_type": "markdown",
      "source": [
        "We decided the bar plot to define the most popular host as this is a categorical data."
      ],
      "metadata": {
        "id": "cFR8o8AMddbb"
      }
    },
    {
      "cell_type": "markdown",
      "source": [
        "##### 2. What is/are the insight(s) found from the chart?"
      ],
      "metadata": {
        "id": "ijmpgYnKYklI"
      }
    },
    {
      "cell_type": "markdown",
      "source": [
        "There are many hosts with more than 100 properties listed in Airbnb NYC."
      ],
      "metadata": {
        "id": "up3eYElIdmWx"
      }
    },
    {
      "cell_type": "markdown",
      "source": [
        "##### 3. Will the gained insights help creating a positive business impact?\n",
        "Are there any insights that lead to negative growth? Justify with specific reason."
      ],
      "metadata": {
        "id": "-JiQyfWJYklI"
      }
    },
    {
      "cell_type": "markdown",
      "source": [
        "We can see from the above plot that Sonder (NYC) has the highest number of properties listed with a total of 327 properties in Airbnb NYC. Providing a official mark for the hosts who has 50+ properties registered on Airbnb will be a appreciation for the host and customers can identify popular hosts."
      ],
      "metadata": {
        "id": "Bk7QbopMdvzI"
      }
    },
    {
      "cell_type": "markdown",
      "source": [
        "#### Chart - 3\n",
        "\n",
        "**Who are the hosts with the most number of reviews?**"
      ],
      "metadata": {
        "id": "EM7whBJCYoAo"
      }
    },
    {
      "cell_type": "code",
      "source": [
        "# top 10 hosts on the basis of reviews\n",
        "top_hosts_reviews = airbnb_df.groupby(['host_id','host_name'])['number_of_reviews'].sum().sort_values(ascending=False)[:10]\n",
        "print('The top 10 hosts who has got the most number of reviews:\\n')\n",
        "top_hosts_reviews_df = top_hosts_reviews.reset_index(name='review_count')\n",
        "table = tabulate(top_hosts_reviews_df, headers=['Host ID','Host Name','Review Count'],tablefmt='fancy_grid')\n",
        "print(table)\n",
        "\n",
        "# plot the top 10 hosts on the basis of reviews\n",
        "top_hosts_reviews.plot.barh().invert_yaxis()\n",
        "plt.ylabel('Host Name and Host ID')\n",
        "plt.xlabel('Total number of reviews')\n",
        "plt.title('Top 10 Hosts having the highest number of reviews')\n",
        "plt.show()"
      ],
      "metadata": {
        "id": "f_cF2Erpl_pj"
      },
      "execution_count": null,
      "outputs": []
    },
    {
      "cell_type": "markdown",
      "source": [
        "##### 1. Why did you pick the specific chart?"
      ],
      "metadata": {
        "id": "fge-S5ZAYoAp"
      }
    },
    {
      "cell_type": "markdown",
      "source": [
        "We decided the bar plot to define the most popular host in terms of review as this is a categorical data"
      ],
      "metadata": {
        "id": "iZTUhanFf8tY"
      }
    },
    {
      "cell_type": "markdown",
      "source": [
        "##### 2. What is/are the insight(s) found from the chart?"
      ],
      "metadata": {
        "id": "85gYPyotYoAp"
      }
    },
    {
      "cell_type": "markdown",
      "source": [
        "We are getting a review about the top 10 hosts who have received the highest number of reviews."
      ],
      "metadata": {
        "id": "mg3c874qgIJ5"
      }
    },
    {
      "cell_type": "markdown",
      "source": [
        "##### 3. Will the gained insights help creating a positive business impact?\n",
        "Are there any insights that lead to negative growth? Justify with specific reason."
      ],
      "metadata": {
        "id": "RoGjAbkUYoAp"
      }
    },
    {
      "cell_type": "markdown",
      "source": [
        "The gained insights will help in creating a positive business impact as high number of reviews often indicates to high customer satisfaction and positive experience from the customers. This can help the hosts to create a more positive atmosphere to attract more hosts and generate more revenue."
      ],
      "metadata": {
        "id": "I7AM8C-KgNHV"
      }
    },
    {
      "cell_type": "markdown",
      "source": [
        "#### Chart - 4\n",
        "\n",
        "**Which is the most affordable borough?**"
      ],
      "metadata": {
        "id": "4Of9eVA-YrdM"
      }
    },
    {
      "cell_type": "code",
      "source": [
        "# Most affordable borough per day\n",
        "most_affordable_borough = airbnb_df.groupby('neighbourhood_group')['price'].median().sort_values(ascending=False).reset_index()\n",
        "print(\"The most affordable borough in NYC:\\n\")\n",
        "table = tabulate(most_affordable_borough,headers=['Neighbourhood Group','Price'],tablefmt='grid')\n",
        "print(table)\n",
        "\n",
        "# Plotting the most affordable borough per day\n",
        "sns.barplot(x='price',y='neighbourhood_group', data=most_affordable_borough)\n",
        "plt.xlabel(\"Price\")\n",
        "plt.ylabel(\"Different Boroughs of NYC\")\n",
        "plt.title(\"Most affordable borough in NYC per day\")\n",
        "plt.show()"
      ],
      "metadata": {
        "id": "TEmGiAGigaAv"
      },
      "execution_count": null,
      "outputs": []
    },
    {
      "cell_type": "markdown",
      "source": [
        "##### 1. Why did you pick the specific chart?"
      ],
      "metadata": {
        "id": "iky9q4vBYrdO"
      }
    },
    {
      "cell_type": "markdown",
      "source": [
        "The specific chart is chosen to compare the categorical and numerical data i.e. providing insights about the most affordable boroughs of NYC."
      ],
      "metadata": {
        "id": "6KoBYeMEgi4f"
      }
    },
    {
      "cell_type": "markdown",
      "source": [
        "##### 2. What is/are the insight(s) found from the chart?"
      ],
      "metadata": {
        "id": "F6T5p64dYrdO"
      }
    },
    {
      "cell_type": "markdown",
      "source": [
        "It shows which borough is the most affordable amongst the five in NYC."
      ],
      "metadata": {
        "id": "Q1LsWn1xgnan"
      }
    },
    {
      "cell_type": "markdown",
      "source": [
        "##### 3. Will the gained insights help creating a positive business impact?\n",
        "Are there any insights that lead to negative growth? Justify with specific reason."
      ],
      "metadata": {
        "id": "y-Ehk30pYrdP"
      }
    },
    {
      "cell_type": "markdown",
      "source": [
        "The chart can be useful for business understanding of the most affordable borough and potentially target their marketing and pricing strategies accordingly"
      ],
      "metadata": {
        "id": "hGPYWE3Wgr62"
      }
    },
    {
      "cell_type": "markdown",
      "source": [
        "#### Chart - 5\n",
        "\n",
        "**What are the different types of room available in the properties in NYC?**"
      ],
      "metadata": {
        "id": "bamQiAODYuh1"
      }
    },
    {
      "cell_type": "code",
      "source": [
        "# Room types in different neighbourhood groups\n",
        "room_type_neighbourhood_groups = airbnb_df.groupby(['neighbourhood_group', 'room_type'])['room_type'].count()\n",
        "print('The different room types available in different neighbourhood groups: \\n')\n",
        "room_type_neighbourhood_groups_df = room_type_neighbourhood_groups.reset_index(name='Count')\n",
        "table = tabulate(room_type_neighbourhood_groups_df, headers=['Neighbourhood Group', 'Room Type', 'Count'], tablefmt='pretty')\n",
        "print(table)\n",
        "\n",
        "# Plot the distribution\n",
        "plt.figure()\n",
        "sns.countplot(data=airbnb_df, x='neighbourhood_group', hue='room_type')\n",
        "plt.title('Room types in different neighbourhood groups')\n",
        "plt.show()"
      ],
      "metadata": {
        "id": "vFmiYheXg8rF"
      },
      "execution_count": null,
      "outputs": []
    },
    {
      "cell_type": "markdown",
      "source": [
        "#### Chart - 6\n",
        "\n",
        "**Types of rooms avalilable around NYC**"
      ],
      "metadata": {
        "id": "OH-pJp9IphqM"
      }
    },
    {
      "cell_type": "code",
      "source": [
        "# different room types\n",
        "different_room_types = airbnb_df['room_type'].value_counts()\n",
        "df = pd.DataFrame({'Room Types': different_room_types.index, 'Count': different_room_types.values})\n",
        "print('The top neighbourhood groups which has the most number of properties listed:\\n')\n",
        "table = tabulate(df, headers=[\"Room Types\",\"Count\"],tablefmt='fancy_grid')\n",
        "print(table)\n",
        "\n",
        "plt.figure()\n",
        "plt.title('Different types of room types')\n",
        "plt.pie(airbnb_df['room_type'].value_counts(), labels=airbnb_df['room_type'].value_counts().index, autopct='%1.1f%%', startangle=180)\n",
        "plt.show()"
      ],
      "metadata": {
        "id": "6TVfrqFjhRCg"
      },
      "execution_count": null,
      "outputs": []
    },
    {
      "cell_type": "markdown",
      "source": [
        "##### 1. Why did you pick the specific chart?"
      ],
      "metadata": {
        "id": "bbFf2-_FphqN"
      }
    },
    {
      "cell_type": "markdown",
      "source": [
        "The bar chart is being used to differentiate between the categorial data among the different room types of NYC boroughs, and the Pie-chart is used to show the percentage of rooms for each category around the different NYC boroughs."
      ],
      "metadata": {
        "id": "k7Ju1ALOhbUI"
      }
    },
    {
      "cell_type": "markdown",
      "source": [
        "##### 2. What is/are the insight(s) found from the chart?"
      ],
      "metadata": {
        "id": "_ouA3fa0phqN"
      }
    },
    {
      "cell_type": "markdown",
      "source": [
        "It gives an idea about the different types of room available around NYC."
      ],
      "metadata": {
        "id": "QzSFIE5AhfIw"
      }
    },
    {
      "cell_type": "markdown",
      "source": [
        "##### 3. Will the gained insights help creating a positive business impact?\n",
        "Are there any insights that lead to negative growth? Justify with specific reason."
      ],
      "metadata": {
        "id": "Seke61FWphqN"
      }
    },
    {
      "cell_type": "markdown",
      "source": [
        "The insights gives an idea about rooms availability across boroughs in NYC. The pricing strategy can be changed or determined according to the availability of the rooms."
      ],
      "metadata": {
        "id": "IZW_1H5Hhi-C"
      }
    },
    {
      "cell_type": "markdown",
      "source": [
        "#### Chart - 7\n",
        "\n",
        "**Hosts provided price for each borough**."
      ],
      "metadata": {
        "id": "PIIx-8_IphqN"
      }
    },
    {
      "cell_type": "code",
      "source": [
        "airbnb_df_1 = airbnb_df.loc[airbnb_df['price']<100].sort_values(['price'])\n",
        "\n",
        "plt.figure()\n",
        "plt.title('Neighbourhood Groups on the basis of availability')\n",
        "sns.boxplot(data=airbnb_df_1, x='neighbourhood_group', y='price')\n",
        "plt.show()"
      ],
      "metadata": {
        "id": "CRcg2yLZh4uo"
      },
      "execution_count": null,
      "outputs": []
    },
    {
      "cell_type": "markdown",
      "source": [
        "##### 1. Why did you pick the specific chart?"
      ],
      "metadata": {
        "id": "t27r6nlMphqO"
      }
    },
    {
      "cell_type": "markdown",
      "source": [
        "This chart was taken up to show the price distribution for each borough from 0 to 100 dollars."
      ],
      "metadata": {
        "id": "4JKJefsQh9x2"
      }
    },
    {
      "cell_type": "markdown",
      "source": [
        "##### 2. What is/are the insight(s) found from the chart?"
      ],
      "metadata": {
        "id": "r2jJGEOYphqO"
      }
    },
    {
      "cell_type": "markdown",
      "source": [
        "The charts gives an insight about the price distribution across NYC."
      ],
      "metadata": {
        "id": "V66a7XPNiCmz"
      }
    },
    {
      "cell_type": "markdown",
      "source": [
        "##### 3. Will the gained insights help creating a positive business impact?\n",
        "Are there any insights that lead to negative growth? Justify with specific reason."
      ],
      "metadata": {
        "id": "b0JNsNcRphqO"
      }
    },
    {
      "cell_type": "markdown",
      "source": [
        "It will help to differentiate between the price range across different boroughs. It will help the customers to plan a budget stay according to their need."
      ],
      "metadata": {
        "id": "tqSamPuhiJaU"
      }
    },
    {
      "cell_type": "markdown",
      "source": [
        "#### Chart - 8\n",
        "\n",
        "**Locations/Map of Neighbourhood Groups**"
      ],
      "metadata": {
        "id": "BZR9WyysphqO"
      }
    },
    {
      "cell_type": "code",
      "source": [
        "\n",
        "# plot neighbourhood groups on the basis of latitude and longitude\n",
        "plt.figure(figsize=(10, 8))\n",
        "sns.scatterplot(x='longitude', y='latitude', hue='neighbourhood_group', data=airbnb_df)\n",
        "plt.title('Locations of different neighbourhood groups in NYC over a map')\n",
        "plt.show()"
      ],
      "metadata": {
        "id": "cZf7WLYiiWsV"
      },
      "execution_count": null,
      "outputs": []
    },
    {
      "cell_type": "markdown",
      "source": [
        "Percentage of properties around NYC"
      ],
      "metadata": {
        "id": "M3m5PLAQik_j"
      }
    },
    {
      "cell_type": "code",
      "source": [
        "# distribution of the properties around NYC through a pie chart\n",
        "neighbourhood_groups = airbnb_df['neighbourhood_group'].value_counts()\n",
        "df = pd.DataFrame({'Neighbourhood Group': neighbourhood_groups.index, 'Count': neighbourhood_groups.values})\n",
        "print('The top neighbourhood groups which has the most number of properties listed:\\n')\n",
        "table = tabulate(df, headers=[\"Neighbourhood Group\",\"Count\"],tablefmt='fancy_grid')\n",
        "print(table)\n",
        "\n",
        "plt.figure(figsize=(10, 8))\n",
        "plt.title('Distribution of properties across NYC broughs')\n",
        "plt.pie(airbnb_df['neighbourhood_group'].value_counts(), labels=airbnb_df['neighbourhood_group'].value_counts().index, autopct='%1.1f%%', startangle=180)\n",
        "plt.show()"
      ],
      "metadata": {
        "id": "i9UxlZzHio_3"
      },
      "execution_count": null,
      "outputs": []
    },
    {
      "cell_type": "markdown",
      "source": [
        "##### 1. Why did you pick the specific chart?"
      ],
      "metadata": {
        "id": "jj7wYXLtphqO"
      }
    },
    {
      "cell_type": "markdown",
      "source": [
        "The scatter plot chart was selected to visualize the distribution of the properties based upon the geographical location across NYC.\n",
        "\n",
        "The pie chart provides a visual representation of how different properties across NYC contribute as a whole."
      ],
      "metadata": {
        "id": "wzOMAueiiuot"
      }
    },
    {
      "cell_type": "markdown",
      "source": [
        "##### 2. What is/are the insight(s) found from the chart?"
      ],
      "metadata": {
        "id": "eZrbJ2SmphqO"
      }
    },
    {
      "cell_type": "markdown",
      "source": [
        "It gives an insight about how many properties are listed among different Boroughs. As seen from the chart, Manhattan has the most number of properties listed followed by Brooklyn, Queens, Bronx and Staten Island"
      ],
      "metadata": {
        "id": "ciRV5f_hiyQo"
      }
    },
    {
      "cell_type": "markdown",
      "source": [
        "##### 3. Will the gained insights help creating a positive business impact?\n",
        "Are there any insights that lead to negative growth? Justify with specific reason."
      ],
      "metadata": {
        "id": "rFu4xreNphqO"
      }
    },
    {
      "cell_type": "markdown",
      "source": [
        "The insights gained from the pie chart will help us to modify the listing price based on the demands like Staten Island, Bronx and let other buisness partners know the popular place based on the density of the properties."
      ],
      "metadata": {
        "id": "3MPH33N8i2Nl"
      }
    },
    {
      "cell_type": "markdown",
      "source": [
        "#### Chart - 9\n",
        "\n",
        "**Which neighbourhoods are the most expensive and the most affordable?**"
      ],
      "metadata": {
        "id": "YJ55k-q6phqO"
      }
    },
    {
      "cell_type": "code",
      "source": [
        "# find the top 10 costly neighbourhoods in NYC\n",
        "high_priced_neighbourhoods = airbnb_df.groupby(['neighbourhood'])['price'].mean().sort_values(ascending=False)[:10]\n",
        "print('The most expensive neighbourhoods: \\n')\n",
        "high_priced_neighbourhoods_df = high_priced_neighbourhoods.reset_index(name='Average Price')\n",
        "table = tabulate(high_priced_neighbourhoods_df, headers = ['Neighbourhood','Average Price'],tablefmt='grid')\n",
        "print(table)\n",
        "\n",
        "# plot the costliest neighbourhoods\n",
        "sns.barplot(y=high_priced_neighbourhoods.index,x=high_priced_neighbourhoods.values)\n",
        "plt.ylabel('Neighbourhoods')\n",
        "plt.xlabel('Average Price per day')\n",
        "plt.title('Top 10 costliest neighbourhoods')\n",
        "plt.show()"
      ],
      "metadata": {
        "id": "lnCeQH_xjJ2V"
      },
      "execution_count": null,
      "outputs": []
    },
    {
      "cell_type": "code",
      "source": [
        "# find the top 10 cheaper neighbourhoods in NYC\n",
        "low_priced_neighbourhoods = airbnb_df.groupby(['neighbourhood'])['price'].mean().sort_values(ascending=True)[:10]\n",
        "print('The most affordable neighbourhoods: \\n')\n",
        "low_priced_neighbourhoods_df = low_priced_neighbourhoods.reset_index(name='Average Price')\n",
        "table = tabulate(low_priced_neighbourhoods_df, headers = ['Neighbourhood','Average Price'],tablefmt='grid')\n",
        "print(table)\n",
        "\n",
        "# plot the cheaper neighbourhoods\n",
        "sns.barplot(y=low_priced_neighbourhoods.index,x=low_priced_neighbourhoods.values)\n",
        "plt.ylabel('Neighbourhoods')\n",
        "plt.xlabel('Average Price per day')\n",
        "plt.title('Top 10 cheaper neighbourhoods')\n",
        "plt.show()"
      ],
      "metadata": {
        "id": "HVKQUPByjYP8"
      },
      "execution_count": null,
      "outputs": []
    },
    {
      "cell_type": "markdown",
      "source": [
        "##### 1. Why did you pick the specific chart?"
      ],
      "metadata": {
        "id": "gCFgpxoyphqP"
      }
    },
    {
      "cell_type": "markdown",
      "source": [
        "The bar chart is used to visualize the top 10 costliest and cheapest neighbourhoods in NYC based on the average price per day"
      ],
      "metadata": {
        "id": "y5KXTUcHjdr7"
      }
    },
    {
      "cell_type": "markdown",
      "source": [
        "##### 2. What is/are the insight(s) found from the chart?"
      ],
      "metadata": {
        "id": "OVtJsKN_phqQ"
      }
    },
    {
      "cell_type": "markdown",
      "source": [
        "The chart of the top 10 costliest neighbourhoods with the highest average prices per day.\n",
        "\n",
        "The chart of the top 10 cheaper neighbourhoods with the lowest average prices per day."
      ],
      "metadata": {
        "id": "K59Z3ot8jinp"
      }
    },
    {
      "cell_type": "markdown",
      "source": [
        "##### 3. Will the gained insights help creating a positive business impact?\n",
        "Are there any insights that lead to negative growth? Justify with specific reason."
      ],
      "metadata": {
        "id": "lssrdh5qphqQ"
      }
    },
    {
      "cell_type": "markdown",
      "source": [
        "The insights can help to adjust the pricing strategies based on the average prices of these neighbourhoods, ensuring they remain competitive and attract the right customers. Different businesses can build on these insights to create their presence in the neighbourhoods understanding on the price range."
      ],
      "metadata": {
        "id": "o7KbtYMmjpWc"
      }
    },
    {
      "cell_type": "markdown",
      "source": [
        "#### Chart - 10\n",
        "\n",
        "**Hosts who providing more stay for the paid price**"
      ],
      "metadata": {
        "id": "U2RJ9gkRphqQ"
      }
    },
    {
      "cell_type": "code",
      "source": [
        "df = airbnb_df.sort_values('minimum_nights',ascending=False)[:20]\n",
        "df[['host_id','host_name','neighbourhood_group','neighbourhood','room_type','minimum_nights','price']]"
      ],
      "metadata": {
        "id": "_Cz5s9g5kG36"
      },
      "execution_count": null,
      "outputs": []
    },
    {
      "cell_type": "markdown",
      "source": [
        "Neighbourhoods which offer more stay"
      ],
      "metadata": {
        "id": "LnpyvI2YkLNS"
      }
    },
    {
      "cell_type": "code",
      "source": [
        "top_10_neighbourhoods_min_nights = airbnb_df.groupby(['neighbourhood']).agg({'minimum_nights':'mean','price':'mean'}).sort_values('minimum_nights',ascending=False)[:10]\n",
        "print('The neighbourhoods preferred for longer stays: \\n')\n",
        "top_10_neighbourhoods_min_nights"
      ],
      "metadata": {
        "id": "7LJJDjBOkPh5"
      },
      "execution_count": null,
      "outputs": []
    },
    {
      "cell_type": "markdown",
      "source": [
        "1. Why did you pick the specific chart?"
      ],
      "metadata": {
        "id": "fx5pl2thkXBL"
      }
    },
    {
      "cell_type": "markdown",
      "source": [
        "It will be wiser if the data shown are in table format."
      ],
      "metadata": {
        "id": "PZPGul9Mkcvl"
      }
    },
    {
      "cell_type": "markdown",
      "source": [
        "##### 2. What is/are the insight(s) found from the chart?"
      ],
      "metadata": {
        "id": "tgIPom80phqQ"
      }
    },
    {
      "cell_type": "markdown",
      "source": [
        "Host Genevieve (Entire home/apt) provide more stay for the paid price.\n",
        "\n",
        "Spuyten Duyvil (neighbourhood) provides more stay for the paid price."
      ],
      "metadata": {
        "id": "cxGRFUwTko3X"
      }
    },
    {
      "cell_type": "markdown",
      "source": [
        "##### 3. Will the gained insights help creating a positive business impact?\n",
        "Are there any insights that lead to negative growth? Justify with specific reason."
      ],
      "metadata": {
        "id": "JMzcOPDDphqR"
      }
    },
    {
      "cell_type": "markdown",
      "source": [
        "We can recommend customer that Entire home/apt are available for long stay based on the price."
      ],
      "metadata": {
        "id": "cog2Na9HkzBY"
      }
    },
    {
      "cell_type": "markdown",
      "source": [
        "## **5. Solution to Business Objective**"
      ],
      "metadata": {
        "id": "JcMwzZxoAimU"
      }
    },
    {
      "cell_type": "markdown",
      "source": [
        "#### What do you suggest the client to achieve Business Objective ?\n",
        "Explain Briefly."
      ],
      "metadata": {
        "id": "8G2x9gOozGDZ"
      }
    },
    {
      "cell_type": "markdown",
      "source": [
        "**Price Analysis and Recommendations**: This analysis can be useful for Airbnb guests and property owners to understand price trends and adjust their prices accordingly. Recommendations can be given to hosts in expensive neighborhoods to emphasize the benefits they offer, and to hosts in lower price neighborhoods to attract budget travellers.\n",
        "\n",
        "**Host Performance and Market Insights**: This insight can be valuable to Airbnb itself or other stakeholders they want to understand hosts performance and identify successful hosts.\n",
        "\n",
        "**Borough-level analysis**: This information can be useful for travelers or visitors looking for less complicated options. Recommendations can be given to guests in order to find the most affordable metropolitan area to stay, highlighting potential cost savings and benefits for those areas.\n",
        "\n",
        "**Room Characteristics and Area Group Analysis:** It provides insight into how room types are categorized in different area groups. This type of research can help guests understand the options and make the right choice based on their preferences. Guests can be given recommendations for common rooms in each community group, allowing them to choose the type of accommodation they need.\n",
        "\n",
        "**Geospatial Analysis:** This geospatial analysis can be useful for visitors to visualize the distribution of neighborhood clusters in NYC. Recommendations can be given to list more properties in Staten Island and Bronx."
      ],
      "metadata": {
        "id": "I-vkIdeOlB4w"
      }
    },
    {
      "cell_type": "markdown",
      "source": [
        "# **Conclusion**"
      ],
      "metadata": {
        "id": "gCX9965dhzqZ"
      }
    },
    {
      "cell_type": "markdown",
      "source": [
        "The EDA on the given Airbnb has given a various aspect on pricing dynamics and popular neighbourhoods.\n",
        "By analyzing the data we can tell that NYC is suitable for both commoners and high class people.\n",
        "Analysis on the neighbourhood tells which locations are popular and which room types are available on those location.\n",
        "Analysis on the room types tells which rooms are widely and narrowly spread.\n",
        "Analysis on the minimum nights provides which areas are most suitable for long, medium and short stays.\n",
        "Through these Analysis AirBnb can recommend more customer in coming days.\n",
        "We have reached the end of our analysis of Airbnb listings in NYC. We have explored, visualized most of the features and uncovered a lot of insights which will definitely assist the company in decision making to attract more tourists. These insights will help the customers, hosts and the company to optimize their offerings to earn a win-win situation for every party."
      ],
      "metadata": {
        "id": "BWUvdA4RlLB6"
      }
    },
    {
      "cell_type": "markdown",
      "source": [
        "### ***Hurrah! You have successfully completed your EDA Capstone Project !!!***"
      ],
      "metadata": {
        "id": "gIfDvo9L0UH2"
      }
    }
  ]
}